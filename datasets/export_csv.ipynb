{
 "cells": [
  {
   "cell_type": "code",
   "execution_count": 3,
   "metadata": {},
   "outputs": [],
   "source": [
    "import pandas as pd\n",
    "import numpy as np\n",
    "import openpyxl"
   ]
  },
  {
   "cell_type": "code",
   "execution_count": 4,
   "metadata": {},
   "outputs": [],
   "source": [
    "df_hh = pd.read_excel('homicidios.xlsx', sheet_name='HECHOS')\n",
    "df_hv = pd.read_excel('homicidios.xlsx', sheet_name='VICTIMAS')\n",
    "df_lh = pd.read_excel('lesiones.xlsx', sheet_name='HECHOS')\n",
    "df_lv = pd.read_excel('lesiones.xlsx', sheet_name='VICTIMAS')"
   ]
  },
  {
   "cell_type": "code",
   "execution_count": 8,
   "metadata": {},
   "outputs": [],
   "source": [
    "df_hh.to_csv('hh.csv', encoding='utf8', index=False, quotechar='\"')\n",
    "df_hv.to_csv('hv.csv', encoding='utf8', index=False, quotechar='\"')\n",
    "df_lh.to_csv('lh.csv', encoding='utf8', index=False, quotechar='\"')\n",
    "df_lv.to_csv('lv.csv', encoding='utf8', index=False, quotechar='\"')\n"
   ]
  }
 ],
 "metadata": {
  "kernelspec": {
   "display_name": "siniestros_viales-env",
   "language": "python",
   "name": "python3"
  },
  "language_info": {
   "codemirror_mode": {
    "name": "ipython",
    "version": 3
   },
   "file_extension": ".py",
   "mimetype": "text/x-python",
   "name": "python",
   "nbconvert_exporter": "python",
   "pygments_lexer": "ipython3",
   "version": "3.11.1"
  }
 },
 "nbformat": 4,
 "nbformat_minor": 2
}
