{
 "cells": [
  {
   "cell_type": "code",
   "execution_count": 1,
   "metadata": {},
   "outputs": [],
   "source": [
    "import pandas as pd\n",
    "import numpy as np\n",
    "\n",
    "hh = pd.read_excel('datasets_originales/homicidios.xlsx', sheet_name='HECHOS')\n",
    "hv = pd.read_excel('datasets_originales/homicidios.xlsx', sheet_name='VICTIMAS')\n",
    "lh = pd.read_excel('datasets_originales/lesiones.xlsx', sheet_name='HECHOS')\n",
    "lv = pd.read_excel('datasets_originales/lesiones.xlsx', sheet_name='VICTIMAS')"
   ]
  },
  {
   "cell_type": "markdown",
   "metadata": {},
   "source": [
    "##### Homicidios-Hechos"
   ]
  },
  {
   "cell_type": "code",
   "execution_count": 3,
   "metadata": {},
   "outputs": [
    {
     "data": {
      "text/html": [
       "<div>\n",
       "<style scoped>\n",
       "    .dataframe tbody tr th:only-of-type {\n",
       "        vertical-align: middle;\n",
       "    }\n",
       "\n",
       "    .dataframe tbody tr th {\n",
       "        vertical-align: top;\n",
       "    }\n",
       "\n",
       "    .dataframe thead th {\n",
       "        text-align: right;\n",
       "    }\n",
       "</style>\n",
       "<table border=\"1\" class=\"dataframe\">\n",
       "  <thead>\n",
       "    <tr style=\"text-align: right;\">\n",
       "      <th></th>\n",
       "      <th>ID</th>\n",
       "      <th>N_VICTIMAS</th>\n",
       "      <th>FECHA</th>\n",
       "      <th>AAAA</th>\n",
       "      <th>MM</th>\n",
       "      <th>DD</th>\n",
       "      <th>HORA</th>\n",
       "      <th>HH</th>\n",
       "      <th>LUGAR_DEL_HECHO</th>\n",
       "      <th>TIPO_DE_CALLE</th>\n",
       "      <th>...</th>\n",
       "      <th>Altura</th>\n",
       "      <th>Cruce</th>\n",
       "      <th>Dirección Normalizada</th>\n",
       "      <th>COMUNA</th>\n",
       "      <th>XY (CABA)</th>\n",
       "      <th>pos x</th>\n",
       "      <th>pos y</th>\n",
       "      <th>PARTICIPANTES</th>\n",
       "      <th>VICTIMA</th>\n",
       "      <th>ACUSADO</th>\n",
       "    </tr>\n",
       "  </thead>\n",
       "  <tbody>\n",
       "    <tr>\n",
       "      <th>88</th>\n",
       "      <td>2016-0115</td>\n",
       "      <td>1</td>\n",
       "      <td>2016-09-02</td>\n",
       "      <td>2016</td>\n",
       "      <td>9</td>\n",
       "      <td>2</td>\n",
       "      <td>11:50:00</td>\n",
       "      <td>11</td>\n",
       "      <td>ARIAS Y TRONADOR</td>\n",
       "      <td>CALLE</td>\n",
       "      <td>...</td>\n",
       "      <td>NaN</td>\n",
       "      <td>TRONADOR</td>\n",
       "      <td>ARIAS y TRONADOR</td>\n",
       "      <td>12</td>\n",
       "      <td>Point (97608.87024259 108884.67029908)</td>\n",
       "      <td>-58.48935041</td>\n",
       "      <td>-34.54917673</td>\n",
       "      <td>SD-CARGAS</td>\n",
       "      <td>SD</td>\n",
       "      <td>CARGAS</td>\n",
       "    </tr>\n",
       "  </tbody>\n",
       "</table>\n",
       "<p>1 rows × 21 columns</p>\n",
       "</div>"
      ],
      "text/plain": [
       "           ID  N_VICTIMAS      FECHA  AAAA  MM  DD      HORA  HH  \\\n",
       "88  2016-0115           1 2016-09-02  2016   9   2  11:50:00  11   \n",
       "\n",
       "     LUGAR_DEL_HECHO TIPO_DE_CALLE  ... Altura     Cruce  \\\n",
       "88  ARIAS Y TRONADOR         CALLE  ...    NaN  TRONADOR   \n",
       "\n",
       "   Dirección Normalizada COMUNA                               XY (CABA)  \\\n",
       "88      ARIAS y TRONADOR     12  Point (97608.87024259 108884.67029908)   \n",
       "\n",
       "           pos x         pos y PARTICIPANTES VICTIMA ACUSADO  \n",
       "88  -58.48935041  -34.54917673     SD-CARGAS      SD  CARGAS  \n",
       "\n",
       "[1 rows x 21 columns]"
      ]
     },
     "execution_count": 3,
     "metadata": {},
     "output_type": "execute_result"
    }
   ],
   "source": [
    "hh.sample()"
   ]
  },
  {
   "cell_type": "markdown",
   "metadata": {},
   "source": [
    "    **NOTA**: *parece ser que muchos de los registros en los que 'Altura' == NaN corresponden a hechos que transcurrieron en esquinas, es decir, que en 'LUGAR_DEL_HECHO' figuran los nombres de 2 calles.*"
   ]
  },
  {
   "cell_type": "markdown",
   "metadata": {},
   "source": [
    "En primer lugar, vemos que hay columnas que son redundantes como por ejemplo:\n",
    "- FECHA: ya se describe la fecha de los hechos a traves de las columnas 'AAAA', 'MM' y 'HH'. No es necesaria la columna 'FECHA'"
   ]
  },
  {
   "cell_type": "code",
   "execution_count": 63,
   "metadata": {},
   "outputs": [
    {
     "data": {
      "text/plain": [
       "0      PIEDRA BUENA AV. y FERNANDEZ DE LA CRUZ, F., G...\n",
       "1                   PAZ, GRAL. AV. y DE LOS CORRALES AV.\n",
       "2                                    ENTRE RIOS AV. 2034\n",
       "3              LARRAZABAL AV. y VILLEGAS, CONRADO, GRAL.\n",
       "4                SAN JUAN AV. y SAENZ PEÃ‘A, LUIS, PRES.\n",
       "                             ...                        \n",
       "691                                    RIESTRA AV. y MOM\n",
       "692           DELLEPIANE, LUIS, TTE. GRAL. y LACARRA AV.\n",
       "693                                  GAONA AV. y TERRADA\n",
       "694                                  PERON, EVA AV. 4071\n",
       "695                              PADRE CARLOS MUGICA 709\n",
       "Name: Dirección Normalizada, Length: 696, dtype: object"
      ]
     },
     "execution_count": 63,
     "metadata": {},
     "output_type": "execute_result"
    }
   ],
   "source": [
    "hh['Dirección Normalizada']"
   ]
  },
  {
   "cell_type": "code",
   "execution_count": 47,
   "metadata": {},
   "outputs": [
    {
     "data": {
      "text/plain": [
       "Index(['ID', 'N_VICTIMAS', 'FECHA', 'AAAA', 'MM', 'DD', 'HORA', 'HH',\n",
       "       'LUGAR_DEL_HECHO', 'TIPO_DE_CALLE', 'Calle', 'Altura', 'Cruce',\n",
       "       'Dirección Normalizada', 'COMUNA', 'XY (CABA)', 'pos x', 'pos y',\n",
       "       'PARTICIPANTES', 'VICTIMA', 'ACUSADO'],\n",
       "      dtype='object')"
      ]
     },
     "execution_count": 47,
     "metadata": {},
     "output_type": "execute_result"
    }
   ],
   "source": [
    "hh.columns"
   ]
  },
  {
   "cell_type": "markdown",
   "metadata": {},
   "source": [
    "- 'ID' está con el formato correcto --> En MySQL se definira con el tipo de dato VARCHAR\n",
    "- 'N_VICTIMAS' está con el formato correcto --> En MySQL se definira con el tipo de dato INTEGER\n",
    "- 'FECHA' está con el formato correcto --> En MySQL se definirá con el tipo de dato DATE\n",
    "- 'AAAA' está con el formato correcto --> En MySQL se definirá con el tipo de dato INTEGER\n",
    "- 'MM' está con el formato correcto --> En MySQL se definirá con el tipo de dato INTEGER\n",
    "- 'DD' está con el formato correcto --> En MySQL se definirá con el tipo de dato INTEGER\n",
    "- 'HORA' tiene una celda sin dato, se reemplazará 'SD' por 'NaN' --> En MySQL se definirá con el tipo de dato TIME??\n",
    "- 'HH' tiene una celda sin dato, se reemplazará 'SD' por 'NaN' --> En MySQL se definirá con el tipo de dato FLOAT (float acepta valores NULL)\n",
    "- 'LUGAR_DEL_HECHO'\n",
    "- 'TIPO_DE_CALLE'\n",
    "- 'Calle'\n",
    "- 'Altura'\n",
    "- 'Cruce'\n",
    "- 'Dirección Normalizada'\n",
    "- 'COMUNA'\n",
    "- 'XY (CABA)\n",
    "\n"
   ]
  },
  {
   "cell_type": "code",
   "execution_count": 35,
   "metadata": {},
   "outputs": [],
   "source": [
    "# modificaciones:\n",
    "hh['HORA'].replace('SD',np.nan,inplace=True)\n",
    "hh['HH'].replace('SD',np.nan,inplace=True)\n"
   ]
  },
  {
   "cell_type": "code",
   "execution_count": null,
   "metadata": {},
   "outputs": [],
   "source": []
  },
  {
   "cell_type": "code",
   "execution_count": null,
   "metadata": {},
   "outputs": [],
   "source": []
  },
  {
   "cell_type": "code",
   "execution_count": 8,
   "metadata": {},
   "outputs": [],
   "source": [
    "hh.to_csv('hh.csv', encoding='utf8', index=False, quotechar='\"')\n",
    "hv.to_csv('hv.csv', encoding='utf8', index=False, quotechar='\"')\n",
    "lh.to_csv('lh.csv', encoding='utf8', index=False, quotechar='\"')\n",
    "lv.to_csv('lv.csv', encoding='utf8', index=False, quotechar='\"')\n"
   ]
  },
  {
   "cell_type": "markdown",
   "metadata": {},
   "source": [
    "Me tira un error al querer actualizar el repo:\n",
    "\n",
    "PS C:\\Users\\Martin\\Desktop\\Mis Proyectos\\Siniestros_Viales> git push origin master\n",
    "To https://github.com/jmartindiaz/Siniestros_Viales.git\n",
    " ! [rejected]        master -> master (fetch first)\n",
    "error: failed to push some refs to 'https://github.com/jmartindiaz/Siniestros_Viales.git'\n",
    "hint: Updates were rejected because the remote contains work that you do\n",
    "hint: not have locally. This is usually caused by another repository pushing\n",
    "hint: to the same ref. You may want to first integrate the remote changes\n",
    "hint: (e.g., 'git pull ...') before pushing again.\n",
    "hint: See the 'Note about fast-forwards' in 'git push --help' "
   ]
  },
  {
   "cell_type": "markdown",
   "metadata": {},
   "source": [
    "RESUELTO: tuve que fusionar los repositorios remoto y local con 'git pull origin master' (que es lo mismo que hacer primer 'git fetch' y luego git 'merge'). Ahí me salió que habia un conflicto con el README que ya pude solucionar. El repositorio quedó OK."
   ]
  }
 ],
 "metadata": {
  "kernelspec": {
   "display_name": "siniestros_viales-env",
   "language": "python",
   "name": "python3"
  },
  "language_info": {
   "codemirror_mode": {
    "name": "ipython",
    "version": 3
   },
   "file_extension": ".py",
   "mimetype": "text/x-python",
   "name": "python",
   "nbconvert_exporter": "python",
   "pygments_lexer": "ipython3",
   "version": "3.11.1"
  }
 },
 "nbformat": 4,
 "nbformat_minor": 2
}
