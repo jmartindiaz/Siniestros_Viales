{
 "cells": [
  {
   "cell_type": "code",
   "execution_count": 12,
   "metadata": {},
   "outputs": [],
   "source": [
    "import pandas as pd\n",
    "import numpy as np\n",
    "\n",
    "hh = pd.read_csv(r'C:\\Users\\Martin\\Desktop\\Mis Proyectos\\Siniestros_Viales\\datasets\\hh.csv')\n",
    "hv = pd.read_csv(r'C:\\Users\\Martin\\Desktop\\Mis Proyectos\\Siniestros_Viales\\datasets\\hv.csv')\n",
    "lh = pd.read_csv(r'C:\\Users\\Martin\\Desktop\\Mis Proyectos\\Siniestros_Viales\\datasets\\lh.csv')\n",
    "lv = pd.read_csv(r'C:\\Users\\Martin\\Desktop\\Mis Proyectos\\Siniestros_Viales\\datasets\\lv.csv')"
   ]
  },
  {
   "cell_type": "code",
   "execution_count": 40,
   "metadata": {},
   "outputs": [
    {
     "data": {
      "text/html": [
       "<div>\n",
       "<style scoped>\n",
       "    .dataframe tbody tr th:only-of-type {\n",
       "        vertical-align: middle;\n",
       "    }\n",
       "\n",
       "    .dataframe tbody tr th {\n",
       "        vertical-align: top;\n",
       "    }\n",
       "\n",
       "    .dataframe thead th {\n",
       "        text-align: right;\n",
       "    }\n",
       "</style>\n",
       "<table border=\"1\" class=\"dataframe\">\n",
       "  <thead>\n",
       "    <tr style=\"text-align: right;\">\n",
       "      <th></th>\n",
       "      <th>ID</th>\n",
       "      <th>N_VICTIMAS</th>\n",
       "      <th>FECHA</th>\n",
       "      <th>AAAA</th>\n",
       "      <th>MM</th>\n",
       "      <th>DD</th>\n",
       "      <th>HORA</th>\n",
       "      <th>HH</th>\n",
       "      <th>LUGAR_DEL_HECHO</th>\n",
       "      <th>TIPO_DE_CALLE</th>\n",
       "      <th>...</th>\n",
       "      <th>Altura</th>\n",
       "      <th>Cruce</th>\n",
       "      <th>Dirección Normalizada</th>\n",
       "      <th>COMUNA</th>\n",
       "      <th>XY (CABA)</th>\n",
       "      <th>pos x</th>\n",
       "      <th>pos y</th>\n",
       "      <th>PARTICIPANTES</th>\n",
       "      <th>VICTIMA</th>\n",
       "      <th>ACUSADO</th>\n",
       "    </tr>\n",
       "  </thead>\n",
       "  <tbody>\n",
       "    <tr>\n",
       "      <th>518</th>\n",
       "      <td>2019-0103</td>\n",
       "      <td>1</td>\n",
       "      <td>2019-12-18</td>\n",
       "      <td>2019</td>\n",
       "      <td>12</td>\n",
       "      <td>18</td>\n",
       "      <td>SD</td>\n",
       "      <td>SD</td>\n",
       "      <td>PAZ, GRAL. AV. Y GRIVEO</td>\n",
       "      <td>GRAL PAZ</td>\n",
       "      <td>...</td>\n",
       "      <td>NaN</td>\n",
       "      <td>GRIVEO</td>\n",
       "      <td>PAZ, GRAL. AV. y GRIVEO</td>\n",
       "      <td>11</td>\n",
       "      <td>Point (94643.11254058 103831.57115061)</td>\n",
       "      <td>-58.52169422</td>\n",
       "      <td>-34.59471640</td>\n",
       "      <td>MOTO-MOTO</td>\n",
       "      <td>MOTO</td>\n",
       "      <td>MOTO</td>\n",
       "    </tr>\n",
       "  </tbody>\n",
       "</table>\n",
       "<p>1 rows × 21 columns</p>\n",
       "</div>"
      ],
      "text/plain": [
       "            ID  N_VICTIMAS       FECHA  AAAA  MM  DD HORA  HH  \\\n",
       "518  2019-0103           1  2019-12-18  2019  12  18   SD  SD   \n",
       "\n",
       "             LUGAR_DEL_HECHO TIPO_DE_CALLE  ... Altura   Cruce  \\\n",
       "518  PAZ, GRAL. AV. Y GRIVEO      GRAL PAZ  ...    NaN  GRIVEO   \n",
       "\n",
       "       Dirección Normalizada COMUNA                               XY (CABA)  \\\n",
       "518  PAZ, GRAL. AV. y GRIVEO     11  Point (94643.11254058 103831.57115061)   \n",
       "\n",
       "            pos x         pos y PARTICIPANTES VICTIMA ACUSADO  \n",
       "518  -58.52169422  -34.59471640     MOTO-MOTO    MOTO    MOTO  \n",
       "\n",
       "[1 rows x 21 columns]"
      ]
     },
     "execution_count": 40,
     "metadata": {},
     "output_type": "execute_result"
    }
   ],
   "source": [
    "hh.loc[hh['HH']=='SD']"
   ]
  }
 ],
 "metadata": {
  "kernelspec": {
   "display_name": "siniestros_viales-env",
   "language": "python",
   "name": "python3"
  },
  "language_info": {
   "codemirror_mode": {
    "name": "ipython",
    "version": 3
   },
   "file_extension": ".py",
   "mimetype": "text/x-python",
   "name": "python",
   "nbconvert_exporter": "python",
   "pygments_lexer": "ipython3",
   "version": "3.11.1"
  }
 },
 "nbformat": 4,
 "nbformat_minor": 2
}
